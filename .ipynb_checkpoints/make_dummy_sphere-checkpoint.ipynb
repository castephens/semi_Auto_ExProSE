{
 "cells": [
  {
   "cell_type": "code",
   "execution_count": 1,
   "metadata": {},
   "outputs": [
    {
     "name": "stdout",
     "output_type": "stream",
     "text": [
      "1020\n"
     ]
    }
   ],
   "source": [
    "# Author: Christina Stephens\n",
    "# Date: 02/24/2019\n",
    "\n",
    "import sys\n",
    "import math\n",
    "\n",
    "#X = sys.argv[1]\n",
    "#Y = sys.argv[2]\n",
    "#Z = sys.argv[3]\n",
    "\n",
    "X = 35.474\n",
    "Y = 7.037\n",
    "Z = -19.944\n",
    "\n",
    "r = 7.0\n",
    "\n",
    "N_count = 0\n",
    "N = 100000\n",
    "a = (4*(math.pi)*(r*r))/N\n",
    "d = math.sqrt(a)\n",
    "M_theta = int(round((math.pi)/d))\n",
    "d_theta = (math.pi)/M_theta\n",
    "d_phi = a/d_theta\n",
    "\n",
    "sphere = [[],[],[]]\n",
    "sel = 'select dummies, '\n",
    "with open('dummy_sphere.pml', 'a') as f:\n",
    "    for m in range(0,M_theta):\n",
    "        theta = ((math.pi)*(float(m)+0.5))/float(M_theta)\n",
    "        M_phi = int(round(((math.pi)*(math.sin(theta)))/d_theta))\n",
    "        for n in range(0,M_phi):\n",
    "            phi = (2*(math.pi)*n)/M_phi\n",
    "        \n",
    "            x = r*math.sin(theta)*math.cos(phi) + X\n",
    "            y = r*math.sin(theta)*math.sin(phi) + Y\n",
    "            z = r*math.cos(theta) + Z\n",
    "        \n",
    "            N_count += 1\n",
    "            \n",
    "            f.write('pseudoatom dum' + str(N_count) + ' ,pos=[' + str(x) + ', ' + str(y) + ', ' + str(z) + ']\\n')\n",
    "            if m == 0:\n",
    "                sel = sel + ' dum' + str(N_count)\n",
    "            else:\n",
    "                sel = sel + ' or dum' + str(N_count)\n",
    "        \n",
    "            sphere[0].append(r*math.sin(theta)*math.cos(phi) + X)\n",
    "            sphere[1].append(r*math.sin(theta)*math.sin(phi) + Y)\n",
    "            sphere[2].append(r*math.cos(theta) + Z)\n",
    "        \n",
    "    f.write(sel + '\\n') \n",
    "    f.write('save dummy_sphere.pdb, dummies\\n')\n",
    "    \n",
    "print(N_count)        \n",
    "#from mpl_toolkits.mplot3d import Axes3D\n",
    "#import matplotlib.pyplot as plt\n",
    "\n",
    "\n",
    "\n",
    "#plt.scatter(X, Y, c='b', marker='o')\n",
    "#plt.scatter(sphere[0], sphere[1], c='r', marker='o')\n",
    "#plt.show()\n",
    "\n",
    "\n",
    "#fig = plt.figure()\n",
    "#ax = fig.add_subplot(111, projection='3d')\n",
    "\n",
    "#ax.scatter(X, Y, Z, c='b', marker='o')\n",
    "#ax.scatter(sphere[0], sphere[1], sphere[2], c='r', marker='o')\n",
    "\n",
    "#ax.set_xlabel('X Label')\n",
    "#ax.set_ylabel('Y Label')\n",
    "#ax.set_zlabel('Z Label')\n",
    "\n",
    "#plt.show()"
   ]
  },
  {
   "cell_type": "code",
   "execution_count": null,
   "metadata": {},
   "outputs": [],
   "source": []
  },
  {
   "cell_type": "code",
   "execution_count": null,
   "metadata": {},
   "outputs": [],
   "source": []
  }
 ],
 "metadata": {
  "kernelspec": {
   "display_name": "Python 3",
   "language": "python",
   "name": "python3"
  },
  "language_info": {
   "codemirror_mode": {
    "name": "ipython",
    "version": 2
   },
   "file_extension": ".py",
   "mimetype": "text/x-python",
   "name": "python",
   "nbconvert_exporter": "python",
   "pygments_lexer": "ipython2",
   "version": "2.7.15"
  }
 },
 "nbformat": 4,
 "nbformat_minor": 2
}
